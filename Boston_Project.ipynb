{
  "nbformat": 4,
  "nbformat_minor": 0,
  "metadata": {
    "colab": {
      "name": "Boston Project",
      "provenance": [],
      "authorship_tag": "ABX9TyNK61fC68cDwui1k15Umfwt",
      "include_colab_link": true
    },
    "kernelspec": {
      "name": "python3",
      "display_name": "Python 3"
    },
    "language_info": {
      "name": "python"
    }
  },
  "cells": [
    {
      "cell_type": "markdown",
      "metadata": {
        "id": "view-in-github",
        "colab_type": "text"
      },
      "source": [
        "<a href=\"https://colab.research.google.com/github/DavidStrickland19/Developing-an-open-source-Library-Numerical-Analysis-/blob/main/Boston_Project.ipynb\" target=\"_parent\"><img src=\"https://colab.research.google.com/assets/colab-badge.svg\" alt=\"Open In Colab\"/></a>"
      ]
    },
    {
      "cell_type": "code",
      "execution_count": 1,
      "metadata": {
        "id": "HnpRfuZoSp-C"
      },
      "outputs": [],
      "source": [
        "import pandas as pd\n",
        "import numpy as np\n",
        "from sklearn import linear_model\n",
        "from sklearn.model_selection import train_test_split\n",
        "import seaborn as sns\n",
        "from sklearn import metrics\n",
        "import matplotlib.pyplot as plt\n",
        "plt.show()\n",
        "import pathlib\n",
        "from pathlib import Path\n",
        "import scipy"
      ]
    },
    {
      "cell_type": "code",
      "source": [
        "from google.colab import files\n",
        "uploaded = files.upload()"
      ],
      "metadata": {
        "colab": {
          "resources": {
            "http://localhost:8080/nbextensions/google.colab/files.js": {
              "data": "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",
              "ok": true,
              "headers": [
                [
                  "content-type",
                  "application/javascript"
                ]
              ],
              "status": 200,
              "status_text": ""
            }
          },
          "base_uri": "https://localhost:8080/",
          "height": 73
        },
        "id": "4Ld7MFxR306M",
        "outputId": "801aab8b-5d46-464e-ad69-50c216a99763"
      },
      "execution_count": 2,
      "outputs": [
        {
          "output_type": "display_data",
          "data": {
            "text/html": [
              "\n",
              "     <input type=\"file\" id=\"files-f08f8c77-00c9-4ed5-83d5-bf9115669801\" name=\"files[]\" multiple disabled\n",
              "        style=\"border:none\" />\n",
              "     <output id=\"result-f08f8c77-00c9-4ed5-83d5-bf9115669801\">\n",
              "      Upload widget is only available when the cell has been executed in the\n",
              "      current browser session. Please rerun this cell to enable.\n",
              "      </output>\n",
              "      <script src=\"/nbextensions/google.colab/files.js\"></script> "
            ],
            "text/plain": [
              "<IPython.core.display.HTML object>"
            ]
          },
          "metadata": {}
        },
        {
          "output_type": "stream",
          "name": "stdout",
          "text": [
            "Saving Boston.csv to Boston.csv\n"
          ]
        }
      ]
    },
    {
      "cell_type": "code",
      "source": [
        "df2 = pd.read_csv('Boston.csv')"
      ],
      "metadata": {
        "id": "6eKG1iQTbFP6"
      },
      "execution_count": 3,
      "outputs": []
    },
    {
      "cell_type": "code",
      "source": [
        "Rows = pd.options.display.max_rows = 20\n",
        "#Includung all 25 columns\n",
        "Columns = pd.options.display.max_columns = 25"
      ],
      "metadata": {
        "id": "8DVfHq1YVCbE"
      },
      "execution_count": 4,
      "outputs": []
    },
    {
      "cell_type": "code",
      "source": [
        "#First Giving back the dimension of our table \n",
        "df2.shape\n",
        "#Printing our table\n",
        "print(df2.shape)"
      ],
      "metadata": {
        "id": "rcr0WORCVIgy",
        "colab": {
          "base_uri": "https://localhost:8080/"
        },
        "outputId": "11f18d38-d72f-410b-cd31-24ab6d107af5"
      },
      "execution_count": 5,
      "outputs": [
        {
          "output_type": "stream",
          "name": "stdout",
          "text": [
            "(26598, 25)\n"
          ]
        }
      ]
    },
    {
      "cell_type": "code",
      "source": [
        "#Show the table\n",
        "print(df2)"
      ],
      "metadata": {
        "id": "QssDClGcVJ0p",
        "colab": {
          "base_uri": "https://localhost:8080/"
        },
        "outputId": "ebf3ab14-5c9f-4ab3-c31a-960c8b1563c6"
      },
      "execution_count": 6,
      "outputs": [
        {
          "output_type": "stream",
          "name": "stdout",
          "text": [
            "       Unnamed: 0    Bib                   Name  Age M/F           City State  \\\n",
            "0               0      3         Desisa, Lelisa   25   M           Ambo   NaN   \n",
            "1               1      4  Tsegay, Yemane Adhane   30   M    Addis Ababa   NaN   \n",
            "2               2      8         Chebet, Wilson   29   M       Marakwet   NaN   \n",
            "3               3     11       Kipyego, Bernard   28   M        Eldoret   NaN   \n",
            "4               4     10          Korir, Wesley   32   M         Kitale   NaN   \n",
            "...           ...    ...                    ...  ...  ..            ...   ...   \n",
            "26593       26593  25656  Prescott, Francine J.   64   F  Boynton Beach    FL   \n",
            "26594       26594  31359    Emerson, Annette C.   61   F       Old Town    ME   \n",
            "26595       26595  25559          Cerveny, Nona   66   F     Scottsdale    AZ   \n",
            "26596       26596  29396    Buccilli, Alfred P.   53   M      Lynnfield    MA   \n",
            "26597       26597  25651        Reilly, William   62   M     Kew Garden    NY   \n",
            "\n",
            "      Country Citizen Unnamed: 9       5K      10K      15K      20K     Half  \\\n",
            "0         ETH     NaN        NaN  0:14:43  0:29:43  0:44:57  1:00:29  1:04:02   \n",
            "1         ETH     NaN        NaN  0:14:43  0:29:43  0:44:58  1:00:28  1:04:01   \n",
            "2         KEN     NaN        NaN  0:14:43  0:29:43  0:44:57  1:00:29  1:04:02   \n",
            "3         KEN     NaN        NaN  0:14:43  0:29:44  0:45:01  1:00:29  1:04:02   \n",
            "4         KEN     NaN        NaN  0:14:43  0:29:44  0:44:58  1:00:28  1:04:01   \n",
            "...       ...     ...        ...      ...      ...      ...      ...      ...   \n",
            "26593     USA     NaN         MI  0:50:15  1:43:31  2:36:53  3:32:26  3:43:46   \n",
            "26594     USA     NaN        NaN  0:48:36  1:39:39  2:39:13  3:35:58  3:47:55   \n",
            "26595     USA     NaN        NaN  0:53:03  1:47:16  2:41:45  3:37:07  3:48:21   \n",
            "26596     USA     NaN        NaN  0:49:04  1:40:12  2:33:31  3:31:41  3:43:35   \n",
            "26597     USA     NaN         MI  0:40:14  1:28:18  2:26:46  3:28:41  3:40:36   \n",
            "\n",
            "           25K      30K      35K      40K     Pace Proj Time Official Time  \\\n",
            "0      1:16:07  1:32:00  1:47:59  2:02:39  0:04:56         -       2:09:17   \n",
            "1      1:16:07  1:31:59  1:47:59  2:02:42  0:04:58         -       2:09:48   \n",
            "2      1:16:07  1:32:00  1:47:59  2:03:01  0:04:59         -       2:10:22   \n",
            "3      1:16:07  1:32:00  1:48:03  2:03:47  0:05:00         -       2:10:47   \n",
            "4      1:16:07  1:32:00  1:47:59  2:03:27  0:05:00         -       2:10:49   \n",
            "...        ...      ...      ...      ...      ...       ...           ...   \n",
            "26593  4:25:53  5:19:44  6:17:19  7:13:34  0:17:31         -       7:38:56   \n",
            "26594  4:32:44  5:31:58  6:28:56  7:26:19  0:17:59         -       7:51:30   \n",
            "26595  4:33:51  5:38:56  6:38:51  7:36:18  0:18:18         -       7:59:33   \n",
            "26596  4:29:20  5:31:11  6:33:35  7:35:38  0:18:20         -       8:00:37   \n",
            "26597  4:36:06  5:43:44  6:51:31  7:41:28  0:18:33         -       8:06:01   \n",
            "\n",
            "       Overall  Gender  Division  \n",
            "0            1       1         1  \n",
            "1            2       2         2  \n",
            "2            3       3         3  \n",
            "3            4       4         4  \n",
            "4            5       5         5  \n",
            "...        ...     ...       ...  \n",
            "26593    26594   12015       269  \n",
            "26594    26595   12016       270  \n",
            "26595    26596   12017        91  \n",
            "26596    26597   14580      2055  \n",
            "26597    26598   14581       898  \n",
            "\n",
            "[26598 rows x 25 columns]\n"
          ]
        }
      ]
    },
    {
      "cell_type": "code",
      "source": [
        "#List out all of the Column Names\n",
        "print(df2.columns)\n"
      ],
      "metadata": {
        "id": "r-RjiqzaVRG5",
        "colab": {
          "base_uri": "https://localhost:8080/"
        },
        "outputId": "40711542-fd3a-4f87-eae3-2ad38b8637e8"
      },
      "execution_count": 7,
      "outputs": [
        {
          "output_type": "stream",
          "name": "stdout",
          "text": [
            "Index(['Unnamed: 0', 'Bib', 'Name', 'Age', 'M/F', 'City', 'State', 'Country',\n",
            "       'Citizen', 'Unnamed: 9', '5K', '10K', '15K', '20K', 'Half', '25K',\n",
            "       '30K', '35K', '40K', 'Pace', 'Proj Time', 'Official Time', 'Overall',\n",
            "       'Gender', 'Division'],\n",
            "      dtype='object')\n"
          ]
        }
      ]
    },
    {
      "cell_type": "code",
      "source": [
        "df2.head(20)\n"
      ],
      "metadata": {
        "colab": {
          "base_uri": "https://localhost:8080/",
          "height": 1000
        },
        "id": "FqUXI_REjT3i",
        "outputId": "094ea414-49e2-4f6e-b792-8caed9b9421f"
      },
      "execution_count": 8,
      "outputs": [
        {
          "output_type": "execute_result",
          "data": {
            "text/html": [
              "\n",
              "  <div id=\"df-64381bed-2256-424a-b4d6-95c98659b2cb\">\n",
              "    <div class=\"colab-df-container\">\n",
              "      <div>\n",
              "<style scoped>\n",
              "    .dataframe tbody tr th:only-of-type {\n",
              "        vertical-align: middle;\n",
              "    }\n",
              "\n",
              "    .dataframe tbody tr th {\n",
              "        vertical-align: top;\n",
              "    }\n",
              "\n",
              "    .dataframe thead th {\n",
              "        text-align: right;\n",
              "    }\n",
              "</style>\n",
              "<table border=\"1\" class=\"dataframe\">\n",
              "  <thead>\n",
              "    <tr style=\"text-align: right;\">\n",
              "      <th></th>\n",
              "      <th>Unnamed: 0</th>\n",
              "      <th>Bib</th>\n",
              "      <th>Name</th>\n",
              "      <th>Age</th>\n",
              "      <th>M/F</th>\n",
              "      <th>City</th>\n",
              "      <th>State</th>\n",
              "      <th>Country</th>\n",
              "      <th>Citizen</th>\n",
              "      <th>Unnamed: 9</th>\n",
              "      <th>5K</th>\n",
              "      <th>10K</th>\n",
              "      <th>15K</th>\n",
              "      <th>20K</th>\n",
              "      <th>Half</th>\n",
              "      <th>25K</th>\n",
              "      <th>30K</th>\n",
              "      <th>35K</th>\n",
              "      <th>40K</th>\n",
              "      <th>Pace</th>\n",
              "      <th>Proj Time</th>\n",
              "      <th>Official Time</th>\n",
              "      <th>Overall</th>\n",
              "      <th>Gender</th>\n",
              "      <th>Division</th>\n",
              "    </tr>\n",
              "  </thead>\n",
              "  <tbody>\n",
              "    <tr>\n",
              "      <th>0</th>\n",
              "      <td>0</td>\n",
              "      <td>3</td>\n",
              "      <td>Desisa, Lelisa</td>\n",
              "      <td>25</td>\n",
              "      <td>M</td>\n",
              "      <td>Ambo</td>\n",
              "      <td>NaN</td>\n",
              "      <td>ETH</td>\n",
              "      <td>NaN</td>\n",
              "      <td>NaN</td>\n",
              "      <td>0:14:43</td>\n",
              "      <td>0:29:43</td>\n",
              "      <td>0:44:57</td>\n",
              "      <td>1:00:29</td>\n",
              "      <td>1:04:02</td>\n",
              "      <td>1:16:07</td>\n",
              "      <td>1:32:00</td>\n",
              "      <td>1:47:59</td>\n",
              "      <td>2:02:39</td>\n",
              "      <td>0:04:56</td>\n",
              "      <td>-</td>\n",
              "      <td>2:09:17</td>\n",
              "      <td>1</td>\n",
              "      <td>1</td>\n",
              "      <td>1</td>\n",
              "    </tr>\n",
              "    <tr>\n",
              "      <th>1</th>\n",
              "      <td>1</td>\n",
              "      <td>4</td>\n",
              "      <td>Tsegay, Yemane Adhane</td>\n",
              "      <td>30</td>\n",
              "      <td>M</td>\n",
              "      <td>Addis Ababa</td>\n",
              "      <td>NaN</td>\n",
              "      <td>ETH</td>\n",
              "      <td>NaN</td>\n",
              "      <td>NaN</td>\n",
              "      <td>0:14:43</td>\n",
              "      <td>0:29:43</td>\n",
              "      <td>0:44:58</td>\n",
              "      <td>1:00:28</td>\n",
              "      <td>1:04:01</td>\n",
              "      <td>1:16:07</td>\n",
              "      <td>1:31:59</td>\n",
              "      <td>1:47:59</td>\n",
              "      <td>2:02:42</td>\n",
              "      <td>0:04:58</td>\n",
              "      <td>-</td>\n",
              "      <td>2:09:48</td>\n",
              "      <td>2</td>\n",
              "      <td>2</td>\n",
              "      <td>2</td>\n",
              "    </tr>\n",
              "    <tr>\n",
              "      <th>2</th>\n",
              "      <td>2</td>\n",
              "      <td>8</td>\n",
              "      <td>Chebet, Wilson</td>\n",
              "      <td>29</td>\n",
              "      <td>M</td>\n",
              "      <td>Marakwet</td>\n",
              "      <td>NaN</td>\n",
              "      <td>KEN</td>\n",
              "      <td>NaN</td>\n",
              "      <td>NaN</td>\n",
              "      <td>0:14:43</td>\n",
              "      <td>0:29:43</td>\n",
              "      <td>0:44:57</td>\n",
              "      <td>1:00:29</td>\n",
              "      <td>1:04:02</td>\n",
              "      <td>1:16:07</td>\n",
              "      <td>1:32:00</td>\n",
              "      <td>1:47:59</td>\n",
              "      <td>2:03:01</td>\n",
              "      <td>0:04:59</td>\n",
              "      <td>-</td>\n",
              "      <td>2:10:22</td>\n",
              "      <td>3</td>\n",
              "      <td>3</td>\n",
              "      <td>3</td>\n",
              "    </tr>\n",
              "    <tr>\n",
              "      <th>3</th>\n",
              "      <td>3</td>\n",
              "      <td>11</td>\n",
              "      <td>Kipyego, Bernard</td>\n",
              "      <td>28</td>\n",
              "      <td>M</td>\n",
              "      <td>Eldoret</td>\n",
              "      <td>NaN</td>\n",
              "      <td>KEN</td>\n",
              "      <td>NaN</td>\n",
              "      <td>NaN</td>\n",
              "      <td>0:14:43</td>\n",
              "      <td>0:29:44</td>\n",
              "      <td>0:45:01</td>\n",
              "      <td>1:00:29</td>\n",
              "      <td>1:04:02</td>\n",
              "      <td>1:16:07</td>\n",
              "      <td>1:32:00</td>\n",
              "      <td>1:48:03</td>\n",
              "      <td>2:03:47</td>\n",
              "      <td>0:05:00</td>\n",
              "      <td>-</td>\n",
              "      <td>2:10:47</td>\n",
              "      <td>4</td>\n",
              "      <td>4</td>\n",
              "      <td>4</td>\n",
              "    </tr>\n",
              "    <tr>\n",
              "      <th>4</th>\n",
              "      <td>4</td>\n",
              "      <td>10</td>\n",
              "      <td>Korir, Wesley</td>\n",
              "      <td>32</td>\n",
              "      <td>M</td>\n",
              "      <td>Kitale</td>\n",
              "      <td>NaN</td>\n",
              "      <td>KEN</td>\n",
              "      <td>NaN</td>\n",
              "      <td>NaN</td>\n",
              "      <td>0:14:43</td>\n",
              "      <td>0:29:44</td>\n",
              "      <td>0:44:58</td>\n",
              "      <td>1:00:28</td>\n",
              "      <td>1:04:01</td>\n",
              "      <td>1:16:07</td>\n",
              "      <td>1:32:00</td>\n",
              "      <td>1:47:59</td>\n",
              "      <td>2:03:27</td>\n",
              "      <td>0:05:00</td>\n",
              "      <td>-</td>\n",
              "      <td>2:10:49</td>\n",
              "      <td>5</td>\n",
              "      <td>5</td>\n",
              "      <td>5</td>\n",
              "    </tr>\n",
              "    <tr>\n",
              "      <th>5</th>\n",
              "      <td>5</td>\n",
              "      <td>9</td>\n",
              "      <td>Chepkwony, Frankline</td>\n",
              "      <td>30</td>\n",
              "      <td>M</td>\n",
              "      <td>Koibatek</td>\n",
              "      <td>NaN</td>\n",
              "      <td>KEN</td>\n",
              "      <td>NaN</td>\n",
              "      <td>NaN</td>\n",
              "      <td>0:14:44</td>\n",
              "      <td>0:29:45</td>\n",
              "      <td>0:44:59</td>\n",
              "      <td>1:00:29</td>\n",
              "      <td>1:04:02</td>\n",
              "      <td>1:16:07</td>\n",
              "      <td>1:32:00</td>\n",
              "      <td>1:47:59</td>\n",
              "      <td>2:03:18</td>\n",
              "      <td>0:05:00</td>\n",
              "      <td>-</td>\n",
              "      <td>2:10:52</td>\n",
              "      <td>6</td>\n",
              "      <td>6</td>\n",
              "      <td>6</td>\n",
              "    </tr>\n",
              "    <tr>\n",
              "      <th>6</th>\n",
              "      <td>6</td>\n",
              "      <td>14</td>\n",
              "      <td>Ritzenhein, Dathan</td>\n",
              "      <td>32</td>\n",
              "      <td>M</td>\n",
              "      <td>Rockford</td>\n",
              "      <td>MI</td>\n",
              "      <td>USA</td>\n",
              "      <td>NaN</td>\n",
              "      <td>NaN</td>\n",
              "      <td>0:14:45</td>\n",
              "      <td>0:29:45</td>\n",
              "      <td>0:45:20</td>\n",
              "      <td>1:00:43</td>\n",
              "      <td>1:04:03</td>\n",
              "      <td>1:16:05</td>\n",
              "      <td>1:31:59</td>\n",
              "      <td>1:48:06</td>\n",
              "      <td>2:04:05</td>\n",
              "      <td>0:05:01</td>\n",
              "      <td>-</td>\n",
              "      <td>2:11:20</td>\n",
              "      <td>7</td>\n",
              "      <td>7</td>\n",
              "      <td>7</td>\n",
              "    </tr>\n",
              "    <tr>\n",
              "      <th>7</th>\n",
              "      <td>7</td>\n",
              "      <td>1</td>\n",
              "      <td>Keflezighi, Meb</td>\n",
              "      <td>39</td>\n",
              "      <td>M</td>\n",
              "      <td>San Diego</td>\n",
              "      <td>CA</td>\n",
              "      <td>USA</td>\n",
              "      <td>NaN</td>\n",
              "      <td>NaN</td>\n",
              "      <td>0:14:44</td>\n",
              "      <td>0:29:44</td>\n",
              "      <td>0:44:59</td>\n",
              "      <td>1:00:30</td>\n",
              "      <td>1:04:02</td>\n",
              "      <td>1:16:07</td>\n",
              "      <td>1:31:59</td>\n",
              "      <td>1:47:59</td>\n",
              "      <td>2:04:58</td>\n",
              "      <td>0:05:04</td>\n",
              "      <td>-</td>\n",
              "      <td>2:12:42</td>\n",
              "      <td>8</td>\n",
              "      <td>8</td>\n",
              "      <td>8</td>\n",
              "    </tr>\n",
              "    <tr>\n",
              "      <th>8</th>\n",
              "      <td>8</td>\n",
              "      <td>5</td>\n",
              "      <td>Tola, Tadese</td>\n",
              "      <td>27</td>\n",
              "      <td>M</td>\n",
              "      <td>Addis Ababa</td>\n",
              "      <td>NaN</td>\n",
              "      <td>ETH</td>\n",
              "      <td>NaN</td>\n",
              "      <td>NaN</td>\n",
              "      <td>0:14:43</td>\n",
              "      <td>0:29:43</td>\n",
              "      <td>0:44:58</td>\n",
              "      <td>1:00:28</td>\n",
              "      <td>1:04:02</td>\n",
              "      <td>1:16:07</td>\n",
              "      <td>1:32:00</td>\n",
              "      <td>1:48:00</td>\n",
              "      <td>2:04:39</td>\n",
              "      <td>0:05:06</td>\n",
              "      <td>-</td>\n",
              "      <td>2:13:35</td>\n",
              "      <td>9</td>\n",
              "      <td>9</td>\n",
              "      <td>9</td>\n",
              "    </tr>\n",
              "    <tr>\n",
              "      <th>9</th>\n",
              "      <td>9</td>\n",
              "      <td>16</td>\n",
              "      <td>Shafar, Vitaliy</td>\n",
              "      <td>33</td>\n",
              "      <td>M</td>\n",
              "      <td>Lutsk</td>\n",
              "      <td>NaN</td>\n",
              "      <td>UKR</td>\n",
              "      <td>NaN</td>\n",
              "      <td>NaN</td>\n",
              "      <td>0:15:14</td>\n",
              "      <td>0:30:34</td>\n",
              "      <td>0:46:05</td>\n",
              "      <td>1:01:43</td>\n",
              "      <td>1:05:07</td>\n",
              "      <td>1:17:18</td>\n",
              "      <td>1:33:11</td>\n",
              "      <td>1:49:43</td>\n",
              "      <td>2:06:16</td>\n",
              "      <td>0:05:07</td>\n",
              "      <td>-</td>\n",
              "      <td>2:13:52</td>\n",
              "      <td>10</td>\n",
              "      <td>10</td>\n",
              "      <td>10</td>\n",
              "    </tr>\n",
              "    <tr>\n",
              "      <th>10</th>\n",
              "      <td>10</td>\n",
              "      <td>22</td>\n",
              "      <td>Tegenkamp, Matt</td>\n",
              "      <td>33</td>\n",
              "      <td>M</td>\n",
              "      <td>Portland</td>\n",
              "      <td>OR</td>\n",
              "      <td>USA</td>\n",
              "      <td>NaN</td>\n",
              "      <td>NaN</td>\n",
              "      <td>0:14:46</td>\n",
              "      <td>0:29:50</td>\n",
              "      <td>0:45:33</td>\n",
              "      <td>1:01:20</td>\n",
              "      <td>1:04:48</td>\n",
              "      <td>1:17:08</td>\n",
              "      <td>1:33:12</td>\n",
              "      <td>1:49:52</td>\n",
              "      <td>2:06:55</td>\n",
              "      <td>0:05:07</td>\n",
              "      <td>-</td>\n",
              "      <td>2:13:52</td>\n",
              "      <td>11</td>\n",
              "      <td>11</td>\n",
              "      <td>11</td>\n",
              "    </tr>\n",
              "    <tr>\n",
              "      <th>11</th>\n",
              "      <td>11</td>\n",
              "      <td>19</td>\n",
              "      <td>Eggleston, Jeffrey</td>\n",
              "      <td>30</td>\n",
              "      <td>M</td>\n",
              "      <td>Boulder</td>\n",
              "      <td>CO</td>\n",
              "      <td>USA</td>\n",
              "      <td>NaN</td>\n",
              "      <td>NaN</td>\n",
              "      <td>0:15:14</td>\n",
              "      <td>0:30:34</td>\n",
              "      <td>0:46:06</td>\n",
              "      <td>1:01:42</td>\n",
              "      <td>1:05:07</td>\n",
              "      <td>1:17:19</td>\n",
              "      <td>1:33:30</td>\n",
              "      <td>1:50:12</td>\n",
              "      <td>2:06:47</td>\n",
              "      <td>0:05:08</td>\n",
              "      <td>-</td>\n",
              "      <td>2:14:17</td>\n",
              "      <td>12</td>\n",
              "      <td>12</td>\n",
              "      <td>12</td>\n",
              "    </tr>\n",
              "    <tr>\n",
              "      <th>12</th>\n",
              "      <td>12</td>\n",
              "      <td>15</td>\n",
              "      <td>April, Lusapho</td>\n",
              "      <td>32</td>\n",
              "      <td>M</td>\n",
              "      <td>Uitenhage</td>\n",
              "      <td>NaN</td>\n",
              "      <td>RSA</td>\n",
              "      <td>NaN</td>\n",
              "      <td>NaN</td>\n",
              "      <td>0:14:44</td>\n",
              "      <td>0:29:44</td>\n",
              "      <td>0:44:59</td>\n",
              "      <td>1:00:29</td>\n",
              "      <td>1:04:03</td>\n",
              "      <td>1:16:07</td>\n",
              "      <td>1:32:00</td>\n",
              "      <td>1:48:07</td>\n",
              "      <td>2:06:50</td>\n",
              "      <td>0:05:13</td>\n",
              "      <td>-</td>\n",
              "      <td>2:16:25</td>\n",
              "      <td>13</td>\n",
              "      <td>13</td>\n",
              "      <td>13</td>\n",
              "    </tr>\n",
              "    <tr>\n",
              "      <th>13</th>\n",
              "      <td>13</td>\n",
              "      <td>20</td>\n",
              "      <td>Arciniaga, Nicholas</td>\n",
              "      <td>31</td>\n",
              "      <td>M</td>\n",
              "      <td>Flagstaff</td>\n",
              "      <td>AZ</td>\n",
              "      <td>USA</td>\n",
              "      <td>NaN</td>\n",
              "      <td>NaN</td>\n",
              "      <td>0:14:44</td>\n",
              "      <td>0:29:44</td>\n",
              "      <td>0:45:14</td>\n",
              "      <td>1:01:07</td>\n",
              "      <td>1:04:35</td>\n",
              "      <td>1:17:50</td>\n",
              "      <td>1:35:43</td>\n",
              "      <td>1:53:33</td>\n",
              "      <td>2:10:40</td>\n",
              "      <td>0:05:16</td>\n",
              "      <td>-</td>\n",
              "      <td>2:18:02</td>\n",
              "      <td>14</td>\n",
              "      <td>14</td>\n",
              "      <td>14</td>\n",
              "    </tr>\n",
              "    <tr>\n",
              "      <th>14</th>\n",
              "      <td>14</td>\n",
              "      <td>76</td>\n",
              "      <td>Goffi, Danilo</td>\n",
              "      <td>42</td>\n",
              "      <td>M</td>\n",
              "      <td>Parabiago - Milan</td>\n",
              "      <td>NaN</td>\n",
              "      <td>ITA</td>\n",
              "      <td>NaN</td>\n",
              "      <td>NaN</td>\n",
              "      <td>0:15:53</td>\n",
              "      <td>0:32:17</td>\n",
              "      <td>0:48:32</td>\n",
              "      <td>1:04:49</td>\n",
              "      <td>1:08:21</td>\n",
              "      <td>1:21:17</td>\n",
              "      <td>1:38:02</td>\n",
              "      <td>1:54:55</td>\n",
              "      <td>2:11:25</td>\n",
              "      <td>0:05:18</td>\n",
              "      <td>-</td>\n",
              "      <td>2:18:44</td>\n",
              "      <td>15</td>\n",
              "      <td>15</td>\n",
              "      <td>1</td>\n",
              "    </tr>\n",
              "    <tr>\n",
              "      <th>15</th>\n",
              "      <td>15</td>\n",
              "      <td>28</td>\n",
              "      <td>Canaday, Sage</td>\n",
              "      <td>29</td>\n",
              "      <td>M</td>\n",
              "      <td>Boulder</td>\n",
              "      <td>CO</td>\n",
              "      <td>USA</td>\n",
              "      <td>NaN</td>\n",
              "      <td>NaN</td>\n",
              "      <td>0:16:08</td>\n",
              "      <td>0:32:19</td>\n",
              "      <td>0:48:41</td>\n",
              "      <td>1:05:01</td>\n",
              "      <td>1:08:38</td>\n",
              "      <td>1:21:18</td>\n",
              "      <td>1:38:01</td>\n",
              "      <td>1:54:54</td>\n",
              "      <td>2:11:37</td>\n",
              "      <td>0:05:19</td>\n",
              "      <td>-</td>\n",
              "      <td>2:19:12</td>\n",
              "      <td>16</td>\n",
              "      <td>16</td>\n",
              "      <td>15</td>\n",
              "    </tr>\n",
              "    <tr>\n",
              "      <th>16</th>\n",
              "      <td>16</td>\n",
              "      <td>54</td>\n",
              "      <td>Zyryanov, Sergey</td>\n",
              "      <td>30</td>\n",
              "      <td>M</td>\n",
              "      <td>Moscow</td>\n",
              "      <td>NaN</td>\n",
              "      <td>RUS</td>\n",
              "      <td>NaN</td>\n",
              "      <td>NaN</td>\n",
              "      <td>0:15:53</td>\n",
              "      <td>0:32:17</td>\n",
              "      <td>0:48:32</td>\n",
              "      <td>1:04:49</td>\n",
              "      <td>1:08:20</td>\n",
              "      <td>1:21:17</td>\n",
              "      <td>1:38:02</td>\n",
              "      <td>1:54:57</td>\n",
              "      <td>2:11:37</td>\n",
              "      <td>0:05:19</td>\n",
              "      <td>-</td>\n",
              "      <td>2:19:17</td>\n",
              "      <td>17</td>\n",
              "      <td>17</td>\n",
              "      <td>16</td>\n",
              "    </tr>\n",
              "    <tr>\n",
              "      <th>17</th>\n",
              "      <td>17</td>\n",
              "      <td>29</td>\n",
              "      <td>Chavez, Chris</td>\n",
              "      <td>28</td>\n",
              "      <td>M</td>\n",
              "      <td>Burlingame</td>\n",
              "      <td>CA</td>\n",
              "      <td>USA</td>\n",
              "      <td>NaN</td>\n",
              "      <td>NaN</td>\n",
              "      <td>0:15:57</td>\n",
              "      <td>0:32:21</td>\n",
              "      <td>0:48:43</td>\n",
              "      <td>1:05:21</td>\n",
              "      <td>1:09:00</td>\n",
              "      <td>1:21:50</td>\n",
              "      <td>1:38:46</td>\n",
              "      <td>1:56:05</td>\n",
              "      <td>2:12:58</td>\n",
              "      <td>0:05:21</td>\n",
              "      <td>-</td>\n",
              "      <td>2:20:04</td>\n",
              "      <td>18</td>\n",
              "      <td>18</td>\n",
              "      <td>17</td>\n",
              "    </tr>\n",
              "    <tr>\n",
              "      <th>18</th>\n",
              "      <td>18</td>\n",
              "      <td>27</td>\n",
              "      <td>Macpherson, Scott</td>\n",
              "      <td>28</td>\n",
              "      <td>M</td>\n",
              "      <td>Columbia</td>\n",
              "      <td>MO</td>\n",
              "      <td>USA</td>\n",
              "      <td>NaN</td>\n",
              "      <td>NaN</td>\n",
              "      <td>0:16:08</td>\n",
              "      <td>0:32:17</td>\n",
              "      <td>0:48:31</td>\n",
              "      <td>1:04:44</td>\n",
              "      <td>1:08:17</td>\n",
              "      <td>1:20:55</td>\n",
              "      <td>1:37:41</td>\n",
              "      <td>1:54:45</td>\n",
              "      <td>2:12:23</td>\n",
              "      <td>0:05:22</td>\n",
              "      <td>-</td>\n",
              "      <td>2:20:25</td>\n",
              "      <td>19</td>\n",
              "      <td>19</td>\n",
              "      <td>18</td>\n",
              "    </tr>\n",
              "    <tr>\n",
              "      <th>19</th>\n",
              "      <td>19</td>\n",
              "      <td>33</td>\n",
              "      <td>Zablocki, Christopher</td>\n",
              "      <td>26</td>\n",
              "      <td>M</td>\n",
              "      <td>Essex</td>\n",
              "      <td>CT</td>\n",
              "      <td>USA</td>\n",
              "      <td>NaN</td>\n",
              "      <td>NaN</td>\n",
              "      <td>0:16:08</td>\n",
              "      <td>0:32:20</td>\n",
              "      <td>0:48:42</td>\n",
              "      <td>1:05:20</td>\n",
              "      <td>1:08:58</td>\n",
              "      <td>1:21:50</td>\n",
              "      <td>1:38:40</td>\n",
              "      <td>1:55:47</td>\n",
              "      <td>2:13:07</td>\n",
              "      <td>0:05:22</td>\n",
              "      <td>-</td>\n",
              "      <td>2:20:35</td>\n",
              "      <td>20</td>\n",
              "      <td>20</td>\n",
              "      <td>19</td>\n",
              "    </tr>\n",
              "  </tbody>\n",
              "</table>\n",
              "</div>\n",
              "      <button class=\"colab-df-convert\" onclick=\"convertToInteractive('df-64381bed-2256-424a-b4d6-95c98659b2cb')\"\n",
              "              title=\"Convert this dataframe to an interactive table.\"\n",
              "              style=\"display:none;\">\n",
              "        \n",
              "  <svg xmlns=\"http://www.w3.org/2000/svg\" height=\"24px\"viewBox=\"0 0 24 24\"\n",
              "       width=\"24px\">\n",
              "    <path d=\"M0 0h24v24H0V0z\" fill=\"none\"/>\n",
              "    <path d=\"M18.56 5.44l.94 2.06.94-2.06 2.06-.94-2.06-.94-.94-2.06-.94 2.06-2.06.94zm-11 1L8.5 8.5l.94-2.06 2.06-.94-2.06-.94L8.5 2.5l-.94 2.06-2.06.94zm10 10l.94 2.06.94-2.06 2.06-.94-2.06-.94-.94-2.06-.94 2.06-2.06.94z\"/><path d=\"M17.41 7.96l-1.37-1.37c-.4-.4-.92-.59-1.43-.59-.52 0-1.04.2-1.43.59L10.3 9.45l-7.72 7.72c-.78.78-.78 2.05 0 2.83L4 21.41c.39.39.9.59 1.41.59.51 0 1.02-.2 1.41-.59l7.78-7.78 2.81-2.81c.8-.78.8-2.07 0-2.86zM5.41 20L4 18.59l7.72-7.72 1.47 1.35L5.41 20z\"/>\n",
              "  </svg>\n",
              "      </button>\n",
              "      \n",
              "  <style>\n",
              "    .colab-df-container {\n",
              "      display:flex;\n",
              "      flex-wrap:wrap;\n",
              "      gap: 12px;\n",
              "    }\n",
              "\n",
              "    .colab-df-convert {\n",
              "      background-color: #E8F0FE;\n",
              "      border: none;\n",
              "      border-radius: 50%;\n",
              "      cursor: pointer;\n",
              "      display: none;\n",
              "      fill: #1967D2;\n",
              "      height: 32px;\n",
              "      padding: 0 0 0 0;\n",
              "      width: 32px;\n",
              "    }\n",
              "\n",
              "    .colab-df-convert:hover {\n",
              "      background-color: #E2EBFA;\n",
              "      box-shadow: 0px 1px 2px rgba(60, 64, 67, 0.3), 0px 1px 3px 1px rgba(60, 64, 67, 0.15);\n",
              "      fill: #174EA6;\n",
              "    }\n",
              "\n",
              "    [theme=dark] .colab-df-convert {\n",
              "      background-color: #3B4455;\n",
              "      fill: #D2E3FC;\n",
              "    }\n",
              "\n",
              "    [theme=dark] .colab-df-convert:hover {\n",
              "      background-color: #434B5C;\n",
              "      box-shadow: 0px 1px 3px 1px rgba(0, 0, 0, 0.15);\n",
              "      filter: drop-shadow(0px 1px 2px rgba(0, 0, 0, 0.3));\n",
              "      fill: #FFFFFF;\n",
              "    }\n",
              "  </style>\n",
              "\n",
              "      <script>\n",
              "        const buttonEl =\n",
              "          document.querySelector('#df-64381bed-2256-424a-b4d6-95c98659b2cb button.colab-df-convert');\n",
              "        buttonEl.style.display =\n",
              "          google.colab.kernel.accessAllowed ? 'block' : 'none';\n",
              "\n",
              "        async function convertToInteractive(key) {\n",
              "          const element = document.querySelector('#df-64381bed-2256-424a-b4d6-95c98659b2cb');\n",
              "          const dataTable =\n",
              "            await google.colab.kernel.invokeFunction('convertToInteractive',\n",
              "                                                     [key], {});\n",
              "          if (!dataTable) return;\n",
              "\n",
              "          const docLinkHtml = 'Like what you see? Visit the ' +\n",
              "            '<a target=\"_blank\" href=https://colab.research.google.com/notebooks/data_table.ipynb>data table notebook</a>'\n",
              "            + ' to learn more about interactive tables.';\n",
              "          element.innerHTML = '';\n",
              "          dataTable['output_type'] = 'display_data';\n",
              "          await google.colab.output.renderOutput(dataTable, element);\n",
              "          const docLink = document.createElement('div');\n",
              "          docLink.innerHTML = docLinkHtml;\n",
              "          element.appendChild(docLink);\n",
              "        }\n",
              "      </script>\n",
              "    </div>\n",
              "  </div>\n",
              "  "
            ],
            "text/plain": [
              "    Unnamed: 0 Bib                   Name  Age M/F               City State  \\\n",
              "0            0   3         Desisa, Lelisa   25   M               Ambo   NaN   \n",
              "1            1   4  Tsegay, Yemane Adhane   30   M        Addis Ababa   NaN   \n",
              "2            2   8         Chebet, Wilson   29   M           Marakwet   NaN   \n",
              "3            3  11       Kipyego, Bernard   28   M            Eldoret   NaN   \n",
              "4            4  10          Korir, Wesley   32   M             Kitale   NaN   \n",
              "5            5   9   Chepkwony, Frankline   30   M           Koibatek   NaN   \n",
              "6            6  14     Ritzenhein, Dathan   32   M           Rockford    MI   \n",
              "7            7   1        Keflezighi, Meb   39   M          San Diego    CA   \n",
              "8            8   5           Tola, Tadese   27   M        Addis Ababa   NaN   \n",
              "9            9  16        Shafar, Vitaliy   33   M              Lutsk   NaN   \n",
              "10          10  22        Tegenkamp, Matt   33   M           Portland    OR   \n",
              "11          11  19     Eggleston, Jeffrey   30   M            Boulder    CO   \n",
              "12          12  15         April, Lusapho   32   M          Uitenhage   NaN   \n",
              "13          13  20    Arciniaga, Nicholas   31   M          Flagstaff    AZ   \n",
              "14          14  76          Goffi, Danilo   42   M  Parabiago - Milan   NaN   \n",
              "15          15  28          Canaday, Sage   29   M            Boulder    CO   \n",
              "16          16  54       Zyryanov, Sergey   30   M             Moscow   NaN   \n",
              "17          17  29          Chavez, Chris   28   M         Burlingame    CA   \n",
              "18          18  27      Macpherson, Scott   28   M           Columbia    MO   \n",
              "19          19  33  Zablocki, Christopher   26   M              Essex    CT   \n",
              "\n",
              "   Country Citizen Unnamed: 9       5K      10K      15K      20K     Half  \\\n",
              "0      ETH     NaN        NaN  0:14:43  0:29:43  0:44:57  1:00:29  1:04:02   \n",
              "1      ETH     NaN        NaN  0:14:43  0:29:43  0:44:58  1:00:28  1:04:01   \n",
              "2      KEN     NaN        NaN  0:14:43  0:29:43  0:44:57  1:00:29  1:04:02   \n",
              "3      KEN     NaN        NaN  0:14:43  0:29:44  0:45:01  1:00:29  1:04:02   \n",
              "4      KEN     NaN        NaN  0:14:43  0:29:44  0:44:58  1:00:28  1:04:01   \n",
              "5      KEN     NaN        NaN  0:14:44  0:29:45  0:44:59  1:00:29  1:04:02   \n",
              "6      USA     NaN        NaN  0:14:45  0:29:45  0:45:20  1:00:43  1:04:03   \n",
              "7      USA     NaN        NaN  0:14:44  0:29:44  0:44:59  1:00:30  1:04:02   \n",
              "8      ETH     NaN        NaN  0:14:43  0:29:43  0:44:58  1:00:28  1:04:02   \n",
              "9      UKR     NaN        NaN  0:15:14  0:30:34  0:46:05  1:01:43  1:05:07   \n",
              "10     USA     NaN        NaN  0:14:46  0:29:50  0:45:33  1:01:20  1:04:48   \n",
              "11     USA     NaN        NaN  0:15:14  0:30:34  0:46:06  1:01:42  1:05:07   \n",
              "12     RSA     NaN        NaN  0:14:44  0:29:44  0:44:59  1:00:29  1:04:03   \n",
              "13     USA     NaN        NaN  0:14:44  0:29:44  0:45:14  1:01:07  1:04:35   \n",
              "14     ITA     NaN        NaN  0:15:53  0:32:17  0:48:32  1:04:49  1:08:21   \n",
              "15     USA     NaN        NaN  0:16:08  0:32:19  0:48:41  1:05:01  1:08:38   \n",
              "16     RUS     NaN        NaN  0:15:53  0:32:17  0:48:32  1:04:49  1:08:20   \n",
              "17     USA     NaN        NaN  0:15:57  0:32:21  0:48:43  1:05:21  1:09:00   \n",
              "18     USA     NaN        NaN  0:16:08  0:32:17  0:48:31  1:04:44  1:08:17   \n",
              "19     USA     NaN        NaN  0:16:08  0:32:20  0:48:42  1:05:20  1:08:58   \n",
              "\n",
              "        25K      30K      35K      40K     Pace Proj Time Official Time  \\\n",
              "0   1:16:07  1:32:00  1:47:59  2:02:39  0:04:56         -       2:09:17   \n",
              "1   1:16:07  1:31:59  1:47:59  2:02:42  0:04:58         -       2:09:48   \n",
              "2   1:16:07  1:32:00  1:47:59  2:03:01  0:04:59         -       2:10:22   \n",
              "3   1:16:07  1:32:00  1:48:03  2:03:47  0:05:00         -       2:10:47   \n",
              "4   1:16:07  1:32:00  1:47:59  2:03:27  0:05:00         -       2:10:49   \n",
              "5   1:16:07  1:32:00  1:47:59  2:03:18  0:05:00         -       2:10:52   \n",
              "6   1:16:05  1:31:59  1:48:06  2:04:05  0:05:01         -       2:11:20   \n",
              "7   1:16:07  1:31:59  1:47:59  2:04:58  0:05:04         -       2:12:42   \n",
              "8   1:16:07  1:32:00  1:48:00  2:04:39  0:05:06         -       2:13:35   \n",
              "9   1:17:18  1:33:11  1:49:43  2:06:16  0:05:07         -       2:13:52   \n",
              "10  1:17:08  1:33:12  1:49:52  2:06:55  0:05:07         -       2:13:52   \n",
              "11  1:17:19  1:33:30  1:50:12  2:06:47  0:05:08         -       2:14:17   \n",
              "12  1:16:07  1:32:00  1:48:07  2:06:50  0:05:13         -       2:16:25   \n",
              "13  1:17:50  1:35:43  1:53:33  2:10:40  0:05:16         -       2:18:02   \n",
              "14  1:21:17  1:38:02  1:54:55  2:11:25  0:05:18         -       2:18:44   \n",
              "15  1:21:18  1:38:01  1:54:54  2:11:37  0:05:19         -       2:19:12   \n",
              "16  1:21:17  1:38:02  1:54:57  2:11:37  0:05:19         -       2:19:17   \n",
              "17  1:21:50  1:38:46  1:56:05  2:12:58  0:05:21         -       2:20:04   \n",
              "18  1:20:55  1:37:41  1:54:45  2:12:23  0:05:22         -       2:20:25   \n",
              "19  1:21:50  1:38:40  1:55:47  2:13:07  0:05:22         -       2:20:35   \n",
              "\n",
              "    Overall  Gender  Division  \n",
              "0         1       1         1  \n",
              "1         2       2         2  \n",
              "2         3       3         3  \n",
              "3         4       4         4  \n",
              "4         5       5         5  \n",
              "5         6       6         6  \n",
              "6         7       7         7  \n",
              "7         8       8         8  \n",
              "8         9       9         9  \n",
              "9        10      10        10  \n",
              "10       11      11        11  \n",
              "11       12      12        12  \n",
              "12       13      13        13  \n",
              "13       14      14        14  \n",
              "14       15      15         1  \n",
              "15       16      16        15  \n",
              "16       17      17        16  \n",
              "17       18      18        17  \n",
              "18       19      19        18  \n",
              "19       20      20        19  "
            ]
          },
          "metadata": {},
          "execution_count": 8
        }
      ]
    },
    {
      "cell_type": "code",
      "source": [
        ""
      ],
      "metadata": {
        "id": "lx-lUe827Sps"
      },
      "execution_count": null,
      "outputs": []
    },
    {
      "cell_type": "code",
      "source": [
        "#class convertsecs:\n",
        "\n",
        "\n",
        "\n",
        "\n",
        "def get_sec(time_str):\n",
        "        \"\"\"Get Seconds from time.\"\"\"\n",
        "        \n",
        "      \n",
        "        if time_str.count(':') == 2 :\n",
        "\n",
        "          h, m, s = time_str.split(':')\n",
        "          return int(h) * 3600 + int(m) * 60 + int(s)\n",
        "\n",
        "        else :\n",
        "            \n",
        "            return \"NA\"\n",
        "          \n",
        "\n",
        "\n",
        "\n",
        "\n",
        "\n",
        "\n",
        "def newseconds(column, column2):\n",
        "    for ht in df2.index:\n",
        "        df2[column][ht]  = get_sec(df2[column2][ht])\n",
        "\n",
        "\n",
        "\n",
        "\n",
        "\n",
        "#create new colmn in DF. This new column will be empty, hence the NaT method\n",
        "df2['Halfsec'] = pd.NaT\n",
        "df2['Off_Time_sec'] = pd.NaT\n",
        "\n",
        "\n",
        "#create an instance of the convertsecs() class\n",
        "#s = convertsecs()\n",
        "\n",
        "\n",
        "\n",
        "#call the newseconds functoin and pass through \"halfsec\" which will replace the \"column\"\n",
        "newseconds('Halfsec', 'Half')\n",
        "newseconds ('Off_Time_sec', 'Official Time')\n",
        "\n",
        "\n",
        "\n",
        "\n",
        "  #df2['HalfSecs'][ht] = get_sec(df2['Half'][ht])\n",
        "  #HalfSec = get_sec(df2['Half'][ht])\n",
        "  #insert get_sec(df2['Half'][ht])  to put our converted seconds back in to the data set\n",
        "\n",
        "\n",
        " \n",
        "\n",
        "\n",
        "\n"
      ],
      "metadata": {
        "colab": {
          "base_uri": "https://localhost:8080/"
        },
        "id": "N3LhbPet7BYv",
        "outputId": "bf0ea372-c6d9-450a-c79e-95ead13d1ab9"
      },
      "execution_count": 9,
      "outputs": [
        {
          "output_type": "stream",
          "name": "stderr",
          "text": [
            "/usr/local/lib/python3.7/dist-packages/ipykernel_launcher.py:27: SettingWithCopyWarning: \n",
            "A value is trying to be set on a copy of a slice from a DataFrame\n",
            "\n",
            "See the caveats in the documentation: https://pandas.pydata.org/pandas-docs/stable/user_guide/indexing.html#returning-a-view-versus-a-copy\n"
          ]
        }
      ]
    },
    {
      "cell_type": "code",
      "source": [
        "clean_data = df2[(df2['Halfsec'] != \"NA\") & (df2['Off_Time_sec'] != \"NA\")]"
      ],
      "metadata": {
        "id": "KCUgLpSlGttX"
      },
      "execution_count": 10,
      "outputs": []
    },
    {
      "cell_type": "code",
      "source": [
        "#clean_data[(np.abs(stats.zscore(clean_data[['Halfsec']])) < 3)]"
      ],
      "metadata": {
        "id": "zdMuybe48pax"
      },
      "execution_count": null,
      "outputs": []
    },
    {
      "cell_type": "code",
      "source": [
        "print(clean_data.shape)\n",
        "print(df2.shape)"
      ],
      "metadata": {
        "id": "Je532evp8MIL",
        "colab": {
          "base_uri": "https://localhost:8080/"
        },
        "outputId": "428810c9-a7d7-4e45-a142-90fcb36352ed"
      },
      "execution_count": 11,
      "outputs": [
        {
          "output_type": "stream",
          "name": "stdout",
          "text": [
            "(26569, 27)\n",
            "(26598, 27)\n"
          ]
        }
      ]
    },
    {
      "cell_type": "code",
      "source": [
        "sns.lineplot(data = clean_data.head(30), x='Overall',y = 'Official Time')\n"
      ],
      "metadata": {
        "id": "Kz7O8oBFVTJn",
        "colab": {
          "base_uri": "https://localhost:8080/",
          "height": 297
        },
        "outputId": "b0c2aa05-f7be-4bd0-8c14-1c5095d2c651"
      },
      "execution_count": 14,
      "outputs": [
        {
          "output_type": "execute_result",
          "data": {
            "text/plain": [
              "<matplotlib.axes._subplots.AxesSubplot at 0x7f79625c37d0>"
            ]
          },
          "metadata": {},
          "execution_count": 14
        },
        {
          "output_type": "display_data",
          "data": {
            "image/png": "[encoded data removed]",
            "text/plain": [
              "<Figure size 432x288 with 1 Axes>"
            ]
          },
          "metadata": {
            "needs_background": "light"
          }
        }
      ]
    },
    {
      "cell_type": "code",
      "source": [
        "sns.relplot(data = df2.head(20), x ='Overall',y = 'Official Time', kind = 'line')"
      ],
      "metadata": {
        "colab": {
          "base_uri": "https://localhost:8080/",
          "height": 387
        },
        "id": "DflX6iEWqFsW",
        "outputId": "3881d91e-c2cb-42d4-f63f-d43c6d77a5f9"
      },
      "execution_count": 15,
      "outputs": [
        {
          "output_type": "execute_result",
          "data": {
            "text/plain": [
              "<seaborn.axisgrid.FacetGrid at 0x7f796144f810>"
            ]
          },
          "metadata": {},
          "execution_count": 15
        },
        {
          "output_type": "display_data",
          "data": {
            "image/png": "[encoded data removed]",
            "text/plain": [
              "<Figure size 360x360 with 1 Axes>"
            ]
          },
          "metadata": {
            "needs_background": "light"
          }
        }
      ]
    },
    {
      "cell_type": "code",
      "source": [
        "sns.scatterplot(data = df2.head(20), x='Half',y = 'Official Time')"
      ],
      "metadata": {
        "colab": {
          "base_uri": "https://localhost:8080/",
          "height": 297
        },
        "id": "SBLFU_ht_MbL",
        "outputId": "a5afb57e-03d4-4ac3-9fcd-3420cb992eff"
      },
      "execution_count": 16,
      "outputs": [
        {
          "output_type": "execute_result",
          "data": {
            "text/plain": [
              "<matplotlib.axes._subplots.AxesSubplot at 0x7f7960f40650>"
            ]
          },
          "metadata": {},
          "execution_count": 16
        },
        {
          "output_type": "display_data",
          "data": {
            "image/png": "[encoded data removed]",
            "text/plain": [
              "<Figure size 432x288 with 1 Axes>"
            ]
          },
          "metadata": {
            "needs_background": "light"
          }
        }
      ]
    },
    {
      "cell_type": "code",
      "source": [
        "first_20_rows = clean_data.loc[:100, ['Halfsec', 'Off_Time_sec']]"
      ],
      "metadata": {
        "id": "_bP6WCgkU4v-"
      },
      "execution_count": 20,
      "outputs": []
    },
    {
      "cell_type": "code",
      "source": [
        "#Failed attempt to Remove outliers\n",
        "from scipy import stats\n",
        "z_scores = stats. zscore(first_20_rows[['Halfsec']]) \n",
        "abs_z_scores = np. abs(z_scores)\n",
        "filtered_entries = (abs_z_scores < 3). all(axis=1)\n",
        "new_df = first_20_rows[filtered_entries]\n",
        "print(new_df)"
      ],
      "metadata": {
        "id": "s1kMBHVYMY7_"
      },
      "execution_count": null,
      "outputs": []
    },
    {
      "cell_type": "code",
      "source": [
        "#Here we are splitting our dataframes ('Half' and 'Official') into train and test sets. 80/20, train/test respecitvely\n",
        "# random_state is set to 42 to shuffle our set a controlled number of times to prevent bias in our split \n",
        "x_train, x_test, y_train, y_test = train_test_split(df_filtered[['Halfsec']], df_filtered[['Off_Time_sec']], test_size=0.2, random_state=42)\n",
        "x_train = np.reshape(x_train, (-1,1))\n",
        "x_test = np.reshape(x_test, (-1,1))\n",
        "y_train = np.reshape(y_train, (-1,1))\n",
        "y_test = np.reshape(y_test, (-1,1))"
      ],
      "metadata": {
        "id": "Q57mXdx3VfQF"
      },
      "execution_count": 41,
      "outputs": []
    },
    {
      "cell_type": "code",
      "source": [
        "print('Train - Predictors shape', x_train.shape)\n",
        "print('Test - Predictors shape', x_test.shape)\n",
        "print('Train - Target shape', y_train.shape)\n",
        "print('Test - Target shape', y_test.shape)"
      ],
      "metadata": {
        "colab": {
          "base_uri": "https://localhost:8080/"
        },
        "id": "10dhdoJetyZr",
        "outputId": "82c946d8-8f4d-417b-e991-512542e22c56"
      },
      "execution_count": 42,
      "outputs": [
        {
          "output_type": "stream",
          "name": "stdout",
          "text": [
            "Train - Predictors shape (77, 1)\n",
            "Test - Predictors shape (20, 1)\n",
            "Train - Target shape (77, 1)\n",
            "Test - Target shape (20, 1)\n"
          ]
        }
      ]
    },
    {
      "cell_type": "code",
      "source": [
        "#Begin making our linear regression model using training sets\n",
        "cls = linear_model.LinearRegression()\n",
        "\n",
        "cls.fit((x_train),(y_train)) \n"
      ],
      "metadata": {
        "colab": {
          "base_uri": "https://localhost:8080/"
        },
        "id": "xJTl_wWL7NCU",
        "outputId": "42eb7a8e-8fe9-4989-a04c-59e3e32452a4"
      },
      "execution_count": 43,
      "outputs": [
        {
          "output_type": "execute_result",
          "data": {
            "text/plain": [
              "LinearRegression()"
            ]
          },
          "metadata": {},
          "execution_count": 43
        }
      ]
    },
    {
      "cell_type": "code",
      "source": [
        "#Make prediction using Linear Regression model. Compare to test set\n",
        "prediction = cls.predict(x_test)"
      ],
      "metadata": {
        "id": "oWITPX4bVrzx"
      },
      "execution_count": 44,
      "outputs": []
    },
    {
      "cell_type": "code",
      "source": [
        "#Collect our statistical summary\n",
        "cls.get_params()"
      ],
      "metadata": {
        "colab": {
          "base_uri": "https://localhost:8080/"
        },
        "id": "zNnNrh16V6FO",
        "outputId": "d8fc8bdc-e1c1-4cd8-cc27-d6f7f4977209"
      },
      "execution_count": 45,
      "outputs": [
        {
          "output_type": "execute_result",
          "data": {
            "text/plain": [
              "{'copy_X': True,\n",
              " 'fit_intercept': True,\n",
              " 'n_jobs': None,\n",
              " 'normalize': 'deprecated',\n",
              " 'positive': False}"
            ]
          },
          "metadata": {},
          "execution_count": 45
        }
      ]
    },
    {
      "cell_type": "code",
      "source": [
        "print('Co-efficient of linear regression', cls.coef_)"
      ],
      "metadata": {
        "colab": {
          "base_uri": "https://localhost:8080/"
        },
        "id": "vowW_ZhcWHbu",
        "outputId": "e014b405-9f7e-477e-f930-d692a0d91bc5"
      },
      "execution_count": 46,
      "outputs": [
        {
          "output_type": "stream",
          "name": "stdout",
          "text": [
            "Co-efficient of linear regression [[1.67816988]]\n"
          ]
        }
      ]
    },
    {
      "cell_type": "code",
      "source": [
        "print('Intercept of linear regression', cls.intercept_)"
      ],
      "metadata": {
        "colab": {
          "base_uri": "https://localhost:8080/"
        },
        "id": "tMRb49_qWqzb",
        "outputId": "df7ced32-5d86-455a-cf0c-9a54c29054ae"
      },
      "execution_count": 47,
      "outputs": [
        {
          "output_type": "stream",
          "name": "stdout",
          "text": [
            "Intercept of linear regression [1574.644623]\n"
          ]
        }
      ]
    },
    {
      "cell_type": "code",
      "source": [
        "print('Mean Square Error', metrics.mean_squared_error(y_test, prediction ))"
      ],
      "metadata": {
        "colab": {
          "base_uri": "https://localhost:8080/"
        },
        "id": "mMhpok_VXTH2",
        "outputId": "6da91b1d-d2c8-4850-b6e7-dda7c85f0031"
      },
      "execution_count": 48,
      "outputs": [
        {
          "output_type": "stream",
          "name": "stdout",
          "text": [
            "Mean Square Error 19789.815374987626\n"
          ]
        }
      ]
    },
    {
      "cell_type": "code",
      "source": [
        "print('Model R^2 Square value', metrics.r2_score(y_test, prediction))"
      ],
      "metadata": {
        "colab": {
          "base_uri": "https://localhost:8080/"
        },
        "id": "heK4DAVnYX0C",
        "outputId": "439c9e58-6562-4de3-a007-515e0a3b17b3"
      },
      "execution_count": 49,
      "outputs": [
        {
          "output_type": "stream",
          "name": "stdout",
          "text": [
            "Model R^2 Square value 0.8575258428053155\n"
          ]
        }
      ]
    },
    {
      "cell_type": "code",
      "source": [
        "#graphing Linear Regression model against our TEST SET\n",
        "plt.scatter(x_test, y_test)\n",
        "plt.plot(x_test, prediction, color = 'red', linewidth = 3)\n",
        "plt.xlabel('Half Marathon Time')\n",
        "plt.ylabel('Final Time')\n",
        "plt.title('Linear Regression')"
      ],
      "metadata": {
        "colab": {
          "base_uri": "https://localhost:8080/",
          "height": 313
        },
        "id": "0KQnjpf6YoTF",
        "outputId": "8295176b-1156-4c62-acba-4c2f0eb3c7f2"
      },
      "execution_count": 50,
      "outputs": [
        {
          "output_type": "execute_result",
          "data": {
            "text/plain": [
              "Text(0.5, 1.0, 'Linear Regression')"
            ]
          },
          "metadata": {},
          "execution_count": 50
        },
        {
          "output_type": "display_data",
          "data": {
            "image/png": "[encoded data removed]",
            "text/plain": [
              "<Figure size 432x288 with 1 Axes>"
            ]
          },
          "metadata": {
            "needs_background": "light"
          }
        }
      ]
    },
    {
      "cell_type": "markdown",
      "source": [
        "The linear regression seems to have an okay fit for our data. There are clear outliers and it is clear that there could be a better fit. We will look at our residual plot next to see how well our linear regression model represented our data with it's predictions."
      ],
      "metadata": {
        "id": "KfVRkROnRZad"
      }
    },
    {
      "cell_type": "code",
      "source": [
        "#Residual Plot\n",
        "plt.scatter(cls.predict(x_test), cls.predict(x_test) - y_test, c='g', s = 40)\n",
        "plt.hlines(y=0, xmin=0, xmax=100)\n",
        "plt.title('Residual plot')\n",
        "plt.ylabel('Residual')"
      ],
      "metadata": {
        "colab": {
          "base_uri": "https://localhost:8080/",
          "height": 299
        },
        "id": "Zvg8plOTfTsZ",
        "outputId": "d469e4b3-db95-4ba3-cf75-7aa60893b655"
      },
      "execution_count": 52,
      "outputs": [
        {
          "output_type": "execute_result",
          "data": {
            "text/plain": [
              "Text(0, 0.5, 'Residual')"
            ]
          },
          "metadata": {},
          "execution_count": 52
        },
        {
          "output_type": "display_data",
          "data": {
            "image/png": "[encoded data removed]",
            "text/plain": [
              "<Figure size 432x288 with 1 Axes>"
            ]
          },
          "metadata": {
            "needs_background": "light"
          }
        }
      ]
    },
    {
      "cell_type": "markdown",
      "source": [
        "We can see that our residual plot does not have a random pattern, because we clearly see a bundled group of points in the far right of the plot. This tells us that our linear regression does not have a good fit of the data. We either need to clean our data more and take away outliers, or try a different model."
      ],
      "metadata": {
        "id": "J5Ckn62PSByF"
      }
    },
    {
      "cell_type": "code",
      "source": [
        "#View the actual residual points\n",
        "resid = cls.predict(x_test) - y_test\n",
        "print(resid)"
      ],
      "metadata": {
        "colab": {
          "base_uri": "https://localhost:8080/"
        },
        "id": "NPkzU-v5AzyY",
        "outputId": "7aeb20f8-eaf5-4517-bd10-85a1e7846ba8"
      },
      "execution_count": 35,
      "outputs": [
        {
          "output_type": "stream",
          "name": "stdout",
          "text": [
            "   Off_Time_sec\n",
            "84     -72.3228\n",
            "55       15.761\n",
            "66      3.18392\n",
            "67      150.861\n",
            "45      10.8168\n",
            "..          ...\n",
            "93     -204.225\n",
            "78       137.51\n",
            "12     -166.091\n",
            "31      209.522\n",
            "76     -390.622\n",
            "\n",
            "[21 rows x 1 columns]\n"
          ]
        }
      ]
    },
    {
      "cell_type": "markdown",
      "source": [
        "Here we will attempt at identifying and deleting outliers."
      ],
      "metadata": {
        "id": "O0lFyYfLS0i_"
      }
    },
    {
      "cell_type": "code",
      "source": [
        "from scipy import stats"
      ],
      "metadata": {
        "id": "wKxkE-ui7dae"
      },
      "execution_count": 36,
      "outputs": []
    },
    {
      "cell_type": "code",
      "source": [
        "q = first_20_rows['Halfsec'].quantile(0.99)"
      ],
      "metadata": {
        "id": "3znxF1Hb7Xoo"
      },
      "execution_count": 37,
      "outputs": []
    },
    {
      "cell_type": "code",
      "source": [
        "first_20_rows[first_20_rows['Halfsec'] < q]"
      ],
      "metadata": {
        "colab": {
          "base_uri": "https://localhost:8080/",
          "height": 423
        },
        "id": "yPZ-NwZz8kuj",
        "outputId": "9f8bbf3c-34d1-46cd-aa1a-4aa08c5adeb8"
      },
      "execution_count": 38,
      "outputs": [
        {
          "output_type": "execute_result",
          "data": {
            "text/html": [
              "\n",
              "  <div id=\"df-f1945a95-9efe-43c0-bb71-ca6e67f4e27e\">\n",
              "    <div class=\"colab-df-container\">\n",
              "      <div>\n",
              "<style scoped>\n",
              "    .dataframe tbody tr th:only-of-type {\n",
              "        vertical-align: middle;\n",
              "    }\n",
              "\n",
              "    .dataframe tbody tr th {\n",
              "        vertical-align: top;\n",
              "    }\n",
              "\n",
              "    .dataframe thead th {\n",
              "        text-align: right;\n",
              "    }\n",
              "</style>\n",
              "<table border=\"1\" class=\"dataframe\">\n",
              "  <thead>\n",
              "    <tr style=\"text-align: right;\">\n",
              "      <th></th>\n",
              "      <th>Halfsec</th>\n",
              "      <th>Off_Time_sec</th>\n",
              "    </tr>\n",
              "  </thead>\n",
              "  <tbody>\n",
              "    <tr>\n",
              "      <th>0</th>\n",
              "      <td>3842</td>\n",
              "      <td>7757</td>\n",
              "    </tr>\n",
              "    <tr>\n",
              "      <th>1</th>\n",
              "      <td>3841</td>\n",
              "      <td>7788</td>\n",
              "    </tr>\n",
              "    <tr>\n",
              "      <th>2</th>\n",
              "      <td>3842</td>\n",
              "      <td>7822</td>\n",
              "    </tr>\n",
              "    <tr>\n",
              "      <th>3</th>\n",
              "      <td>3842</td>\n",
              "      <td>7847</td>\n",
              "    </tr>\n",
              "    <tr>\n",
              "      <th>4</th>\n",
              "      <td>3841</td>\n",
              "      <td>7849</td>\n",
              "    </tr>\n",
              "    <tr>\n",
              "      <th>...</th>\n",
              "      <td>...</td>\n",
              "      <td>...</td>\n",
              "    </tr>\n",
              "    <tr>\n",
              "      <th>94</th>\n",
              "      <td>4492</td>\n",
              "      <td>9098</td>\n",
              "    </tr>\n",
              "    <tr>\n",
              "      <th>95</th>\n",
              "      <td>4449</td>\n",
              "      <td>9117</td>\n",
              "    </tr>\n",
              "    <tr>\n",
              "      <th>97</th>\n",
              "      <td>4511</td>\n",
              "      <td>9121</td>\n",
              "    </tr>\n",
              "    <tr>\n",
              "      <th>98</th>\n",
              "      <td>4446</td>\n",
              "      <td>9122</td>\n",
              "    </tr>\n",
              "    <tr>\n",
              "      <th>100</th>\n",
              "      <td>4491</td>\n",
              "      <td>9126</td>\n",
              "    </tr>\n",
              "  </tbody>\n",
              "</table>\n",
              "<p>99 rows × 2 columns</p>\n",
              "</div>\n",
              "      <button class=\"colab-df-convert\" onclick=\"convertToInteractive('df-f1945a95-9efe-43c0-bb71-ca6e67f4e27e')\"\n",
              "              title=\"Convert this dataframe to an interactive table.\"\n",
              "              style=\"display:none;\">\n",
              "        \n",
              "  <svg xmlns=\"http://www.w3.org/2000/svg\" height=\"24px\"viewBox=\"0 0 24 24\"\n",
              "       width=\"24px\">\n",
              "    <path d=\"M0 0h24v24H0V0z\" fill=\"none\"/>\n",
              "    <path d=\"M18.56 5.44l.94 2.06.94-2.06 2.06-.94-2.06-.94-.94-2.06-.94 2.06-2.06.94zm-11 1L8.5 8.5l.94-2.06 2.06-.94-2.06-.94L8.5 2.5l-.94 2.06-2.06.94zm10 10l.94 2.06.94-2.06 2.06-.94-2.06-.94-.94-2.06-.94 2.06-2.06.94z\"/><path d=\"M17.41 7.96l-1.37-1.37c-.4-.4-.92-.59-1.43-.59-.52 0-1.04.2-1.43.59L10.3 9.45l-7.72 7.72c-.78.78-.78 2.05 0 2.83L4 21.41c.39.39.9.59 1.41.59.51 0 1.02-.2 1.41-.59l7.78-7.78 2.81-2.81c.8-.78.8-2.07 0-2.86zM5.41 20L4 18.59l7.72-7.72 1.47 1.35L5.41 20z\"/>\n",
              "  </svg>\n",
              "      </button>\n",
              "      \n",
              "  <style>\n",
              "    .colab-df-container {\n",
              "      display:flex;\n",
              "      flex-wrap:wrap;\n",
              "      gap: 12px;\n",
              "    }\n",
              "\n",
              "    .colab-df-convert {\n",
              "      background-color: #E8F0FE;\n",
              "      border: none;\n",
              "      border-radius: 50%;\n",
              "      cursor: pointer;\n",
              "      display: none;\n",
              "      fill: #1967D2;\n",
              "      height: 32px;\n",
              "      padding: 0 0 0 0;\n",
              "      width: 32px;\n",
              "    }\n",
              "\n",
              "    .colab-df-convert:hover {\n",
              "      background-color: #E2EBFA;\n",
              "      box-shadow: 0px 1px 2px rgba(60, 64, 67, 0.3), 0px 1px 3px 1px rgba(60, 64, 67, 0.15);\n",
              "      fill: #174EA6;\n",
              "    }\n",
              "\n",
              "    [theme=dark] .colab-df-convert {\n",
              "      background-color: #3B4455;\n",
              "      fill: #D2E3FC;\n",
              "    }\n",
              "\n",
              "    [theme=dark] .colab-df-convert:hover {\n",
              "      background-color: #434B5C;\n",
              "      box-shadow: 0px 1px 3px 1px rgba(0, 0, 0, 0.15);\n",
              "      filter: drop-shadow(0px 1px 2px rgba(0, 0, 0, 0.3));\n",
              "      fill: #FFFFFF;\n",
              "    }\n",
              "  </style>\n",
              "\n",
              "      <script>\n",
              "        const buttonEl =\n",
              "          document.querySelector('#df-f1945a95-9efe-43c0-bb71-ca6e67f4e27e button.colab-df-convert');\n",
              "        buttonEl.style.display =\n",
              "          google.colab.kernel.accessAllowed ? 'block' : 'none';\n",
              "\n",
              "        async function convertToInteractive(key) {\n",
              "          const element = document.querySelector('#df-f1945a95-9efe-43c0-bb71-ca6e67f4e27e');\n",
              "          const dataTable =\n",
              "            await google.colab.kernel.invokeFunction('convertToInteractive',\n",
              "                                                     [key], {});\n",
              "          if (!dataTable) return;\n",
              "\n",
              "          const docLinkHtml = 'Like what you see? Visit the ' +\n",
              "            '<a target=\"_blank\" href=https://colab.research.google.com/notebooks/data_table.ipynb>data table notebook</a>'\n",
              "            + ' to learn more about interactive tables.';\n",
              "          element.innerHTML = '';\n",
              "          dataTable['output_type'] = 'display_data';\n",
              "          await google.colab.output.renderOutput(dataTable, element);\n",
              "          const docLink = document.createElement('div');\n",
              "          docLink.innerHTML = docLinkHtml;\n",
              "          element.appendChild(docLink);\n",
              "        }\n",
              "      </script>\n",
              "    </div>\n",
              "  </div>\n",
              "  "
            ],
            "text/plain": [
              "    Halfsec Off_Time_sec\n",
              "0      3842         7757\n",
              "1      3841         7788\n",
              "2      3842         7822\n",
              "3      3842         7847\n",
              "4      3841         7849\n",
              "..      ...          ...\n",
              "94     4492         9098\n",
              "95     4449         9117\n",
              "97     4511         9121\n",
              "98     4446         9122\n",
              "100    4491         9126\n",
              "\n",
              "[99 rows x 2 columns]"
            ]
          },
          "metadata": {},
          "execution_count": 38
        }
      ]
    },
    {
      "cell_type": "code",
      "source": [
        "q_low = first_20_rows['Halfsec'].quantile(0.01)\n",
        "q_hi  = first_20_rows['Halfsec'].quantile(0.99)\n",
        "\n",
        "df_filtered = first_20_rows[(first_20_rows['Halfsec'] < q_hi) & (first_20_rows['Halfsec'] > q_low)]"
      ],
      "metadata": {
        "id": "nAVUUWlt868s"
      },
      "execution_count": 39,
      "outputs": []
    },
    {
      "cell_type": "code",
      "source": [
        "print(df_filtered)"
      ],
      "metadata": {
        "colab": {
          "base_uri": "https://localhost:8080/"
        },
        "id": "688br9vG9KjN",
        "outputId": "bc963e5a-2043-4745-a25a-0581d3937bd7"
      },
      "execution_count": 40,
      "outputs": [
        {
          "output_type": "stream",
          "name": "stdout",
          "text": [
            "    Halfsec Off_Time_sec\n",
            "0      3842         7757\n",
            "2      3842         7822\n",
            "3      3842         7847\n",
            "5      3842         7852\n",
            "6      3843         7880\n",
            "..      ...          ...\n",
            "94     4492         9098\n",
            "95     4449         9117\n",
            "97     4511         9121\n",
            "98     4446         9122\n",
            "100    4491         9126\n",
            "\n",
            "[97 rows x 2 columns]\n"
          ]
        }
      ]
    },
    {
      "cell_type": "markdown",
      "source": [
        "We were able to delete 3 outliers here, but out residual plot does not look any better after using \"df_filtered\" as our dataframe in the machine learninig steps instead of the former \"first_20_rows\" dataframe in our last attempt. The R^2 value went from .82 to .85. heavily considering new model. Even though this i not the most accurate model for using half marathon times to predict final marathon times, I am still curious to find a model that can in fact predict this. Might consdier cubic spline interpolation to better fit the spread of data, therefore creating more accuate predictions."
      ],
      "metadata": {
        "id": "ZjR0ol4iVt55"
      }
    }
  ]
}