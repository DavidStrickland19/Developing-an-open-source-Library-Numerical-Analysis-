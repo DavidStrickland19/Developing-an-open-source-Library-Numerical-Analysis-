{
  "nbformat": 4,
  "nbformat_minor": 0,
  "metadata": {
    "colab": {
      "name": "Numerical Analysis Library with examples.ipynb",
      "provenance": [],
      "authorship_tag": "ABX9TyOv9t/uVAYx5s6r4oBZ0ytd",
      "include_colab_link": true
    },
    "kernelspec": {
      "name": "python3",
      "display_name": "Python 3"
    },
    "language_info": {
      "name": "python"
    }
  },
  "cells": [
    {
      "cell_type": "markdown",
      "metadata": {
        "id": "view-in-github",
        "colab_type": "text"
      },
      "source": [
        "<a href=\"https://colab.research.google.com/github/DavidStrickland19/Developing-an-open-source-Library-Numerical-Analysis-/blob/main/Numerical_Analysis_Library_with_examples.ipynb\" target=\"_parent\"><img src=\"https://colab.research.google.com/assets/colab-badge.svg\" alt=\"Open In Colab\"/></a>"
      ]
    },
    {
      "cell_type": "markdown",
      "source": [
        "**FIXED POINT ITERATION**"
      ],
      "metadata": {
        "id": "IbMifB0C4396"
      }
    },
    {
      "cell_type": "code",
      "source": [
        "#EXERCISE NUMBER 3\n",
        "#Y0 = 1/2      Y1 = 0.5433216987500 are fixed and take h= .125\n",
        "# y(n+1) = 1.3333333(Y1) -  .3333333(Y0) - 2h(yn)* ln(yn)\n",
        "#y0 = Y1\n",
        "                                \n",
        "import math\n",
        "\n",
        "f = lambda x, Y1, Y0, h: (1.3333333 * (Y1)) - ( .3333333 * (Y0)) - ( (2*h*x)) * (math.log(x))                              \n",
        "\n",
        "Y0 = 0.5\n",
        "Y1 = 0.5433216987500\n",
        "h = .125\n",
        "x0 = Y1\n",
        "n = 10\n",
        "\n",
        "#--------------------------------------------------------------------------------------------\n",
        "\n",
        "def iter3(f,x,Y1,Y0,h,n):\n",
        "    for i in range(n):\n",
        "        x= f(x,Y1,Y0, h)\n",
        "        print ('Iteration *{} is: {}'.format(i,x))\n",
        "        \n",
        "iter3(f,x0,Y1,Y0,h,n)\n",
        "\n"
      ],
      "metadata": {
        "colab": {
          "base_uri": "https://localhost:8080/"
        },
        "id": "B_UO2hQE4oba",
        "outputId": "c1fac7e4-3248-4b17-e91e-bdc557e6a781"
      },
      "execution_count": 16,
      "outputs": [
        {
          "output_type": "stream",
          "name": "stdout",
          "text": [
            "Iteration *0 is: 0.6406261150006851\n",
            "Iteration *1 is: 0.6290814514472624\n",
            "Iteration *2 is: 0.6306562175914519\n",
            "Iteration *3 is: 0.6304445075825247\n",
            "Iteration *4 is: 0.6304730269185157\n",
            "Iteration *5 is: 0.6304691861305768\n",
            "Iteration *6 is: 0.630469703400262\n",
            "Iteration *7 is: 0.6304696337357498\n",
            "Iteration *8 is: 0.630469643117988\n",
            "Iteration *9 is: 0.6304696418544123\n"
          ]
        }
      ]
    },
    {
      "cell_type": "markdown",
      "source": [
        "**FAMILY OF MARTRICIES**"
      ],
      "metadata": {
        "id": "_JMm2SLe4_iM"
      }
    },
    {
      "cell_type": "code",
      "execution_count": 11,
      "metadata": {
        "colab": {
          "base_uri": "https://localhost:8080/"
        },
        "id": "8IAoxURN2jVn",
        "outputId": "8ad56841-f60f-493a-8178-ce059bb64bd3"
      },
      "outputs": [
        {
          "output_type": "execute_result",
          "data": {
            "text/plain": [
              "array([[1.        , 0.5       , 0.33333333, 0.25      , 0.2       ],\n",
              "       [0.5       , 0.33333333, 0.25      , 0.2       , 0.16666667],\n",
              "       [0.33333333, 0.25      , 0.2       , 0.16666667, 0.14285714],\n",
              "       [0.25      , 0.2       , 0.16666667, 0.14285714, 0.125     ],\n",
              "       [0.2       , 0.16666667, 0.14285714, 0.125     , 0.11111111]])"
            ]
          },
          "metadata": {},
          "execution_count": 11
        }
      ],
      "source": [
        "import numpy\n",
        "def HnMatrix(n):\n",
        "    H = numpy.empty([n, n], dtype=numpy.float64)\n",
        "    \n",
        "    for i in range(n):\n",
        "        for j in range (n):\n",
        "            H[i,j] = 1.0/((i+1) + (j+1) - 1.0)\n",
        "    \n",
        "    return H\n",
        "\n",
        "HnMatrix(5)\n",
        "    "
      ]
    },
    {
      "cell_type": "code",
      "source": [
        "def KnMatrix(n):\n",
        "    K = numpy.empty([n, n], dtype=numpy.float64)\n",
        "    \n",
        "    for i in range(n):\n",
        "        for j in range (n):\n",
        "            if( i == j ):\n",
        "                K[i,j] = 2.0\n",
        "            elif( abs(i - j ) == 1):\n",
        "                K[i,j] = -1.0\n",
        "            else:\n",
        "                K[i,j] = 0.0\n",
        "                \n",
        "    return K\n",
        "\n",
        "KnMatrix(5) "
      ],
      "metadata": {
        "colab": {
          "base_uri": "https://localhost:8080/"
        },
        "id": "mChUDj1Z3GtU",
        "outputId": "df5cb619-3fc1-4fae-893e-df10606bf161"
      },
      "execution_count": 13,
      "outputs": [
        {
          "output_type": "execute_result",
          "data": {
            "text/plain": [
              "array([[ 2., -1.,  0.,  0.,  0.],\n",
              "       [-1.,  2., -1.,  0.,  0.],\n",
              "       [ 0., -1.,  2., -1.,  0.],\n",
              "       [ 0.,  0., -1.,  2., -1.],\n",
              "       [ 0.,  0.,  0., -1.,  2.]])"
            ]
          },
          "metadata": {},
          "execution_count": 13
        }
      ]
    },
    {
      "cell_type": "code",
      "source": [
        "def TnMatrix(n):\n",
        "    T = numpy.full([n, n], 0.0)\n",
        "\n",
        "    for i in range(n):\n",
        "        for j in range (n):\n",
        "            if( i == j ):\n",
        "                T[i,j] = 4.0\n",
        "            elif( abs(i - j) == 1):\n",
        "                T[i,j] = 1.0\n",
        "            else:\n",
        "                T[i,j] = 0.0\n",
        "                \n",
        "    return T\n",
        "\n",
        "TnMatrix(5) "
      ],
      "metadata": {
        "colab": {
          "base_uri": "https://localhost:8080/"
        },
        "id": "QJ35ny8p3Lip",
        "outputId": "b63c84e6-9b73-40e1-cf48-71b31547b891"
      },
      "execution_count": 14,
      "outputs": [
        {
          "output_type": "execute_result",
          "data": {
            "text/plain": [
              "array([[4., 1., 0., 0., 0.],\n",
              "       [1., 4., 1., 0., 0.],\n",
              "       [0., 1., 4., 1., 0.],\n",
              "       [0., 0., 1., 4., 1.],\n",
              "       [0., 0., 0., 1., 4.]])"
            ]
          },
          "metadata": {},
          "execution_count": 14
        }
      ]
    },
    {
      "cell_type": "code",
      "source": [
        "def AnMatrix(n):\n",
        "    A = numpy.empty([n, n], dtype=numpy.float64)\n",
        "    \n",
        "    for i in range(n):\n",
        "        for j in range (n):\n",
        "            if( i == j ):\n",
        "                A[i,j] = 1.0\n",
        "            elif( i - j == 1):\n",
        "                A[i,j] = 4.0\n",
        "            elif( i - j == -1):\n",
        "                A[i,j] = -4.0\n",
        "            else:\n",
        "                A[i,j] = 0.0\n",
        "                \n",
        "    return A\n",
        "\n",
        "AnMatrix(5)"
      ],
      "metadata": {
        "colab": {
          "base_uri": "https://localhost:8080/"
        },
        "id": "CitWvUDa3No-",
        "outputId": "96a26510-f4f8-4ad6-8407-4b554fbe9794"
      },
      "execution_count": 15,
      "outputs": [
        {
          "output_type": "execute_result",
          "data": {
            "text/plain": [
              "array([[ 1., -4.,  0.,  0.,  0.],\n",
              "       [ 4.,  1., -4.,  0.,  0.],\n",
              "       [ 0.,  4.,  1., -4.,  0.],\n",
              "       [ 0.,  0.,  4.,  1., -4.],\n",
              "       [ 0.,  0.,  0.,  4.,  1.]])"
            ]
          },
          "metadata": {},
          "execution_count": 15
        }
      ]
    },
    {
      "cell_type": "markdown",
      "source": [
        "**GAUSSIAN ELIMINATION WITH PIVOTING**"
      ],
      "metadata": {
        "id": "abITmZWA5dyD"
      }
    },
    {
      "cell_type": "code",
      "source": [
        "def algorithm_74(Amatrix, bvector):\n",
        "    (numrows, numcols) = Amatrix.shape\n",
        "    a = Amatrix.copy()\n",
        "    b = bvector.copy()\n",
        "    \n",
        "    #making sure that our matrix is square\n",
        "    if(numrows == numcols):\n",
        "        \n",
        "        for i in range(numrows):\n",
        "            #the elimination steps to get the upper triangular form, looking for pivots\n",
        "            \n",
        "            am = abs(a[i,i])\n",
        "            pivot = i\n",
        "        \n",
        "            #looping through to make sure pivot index is the index with the largest abs value\n",
        "            for j in range(i+1, numrows):\n",
        "                if( abs(a[j,i]) > am):\n",
        "                    am = abs(a[j,i])\n",
        "                    pivot = j\n",
        "                \n",
        "                if( pivot > i ):\n",
        "                    #execute row interchange so that the pivot is in the ith row\n",
        "                    for k in range(i, numcols):\n",
        "                        temp = numpy.copy(a[i,k])\n",
        "                        a[i,k] = a[pivot,k]\n",
        "                        a[pivot,k] = temp\n",
        "\n",
        "                \n",
        "                    hold = numpy.copy(b[i,0])\n",
        "                    b[i,0] = b[pivot,0]\n",
        "                    b[pivot,0] = hold\n",
        "            \n",
        "            for j in range(i+1, numrows):\n",
        "                m = a[j,i]/a[i,i]\n",
        "            \n",
        "                for k in range(i+1, numrows):\n",
        "                    a[j,k] = a[j,k] - m*a[i,k]\n",
        "            \n",
        "                b[j,0] = b[j,0] - m*b[i,0]\n",
        "            \n",
        "            \n",
        "        #back solver part\n",
        "        x = numpy.matrix(numpy.zeros((numrows,1), dtype = numpy.float64))\n",
        "        n = numrows - 1\n",
        "        x[n,0] = b[n,0]/a[n,n]    \n",
        "        \n",
        "        #going up along the diagonal\n",
        "        for i in range(n-1,-1,-1):\n",
        "            sum = 0\n",
        "            for j in range(i+1, numrows):\n",
        "                sum = sum + a[i,j]*x[j,0]\n",
        "            x[i,0] = (b[i,0] - sum)/a[i,i]\n",
        "    \n",
        "    return x "
      ],
      "metadata": {
        "id": "u3v3fjy35HDT"
      },
      "execution_count": 84,
      "outputs": []
    },
    {
      "cell_type": "markdown",
      "source": [
        "**LU FACTORIZATION**"
      ],
      "metadata": {
        "id": "g-lfCrKj7izG"
      }
    },
    {
      "cell_type": "code",
      "source": [
        "def LU_factors(Amat):\n",
        "    a = Amat.copy()\n",
        "    \n",
        "    (n, numcol) = a.shape\n",
        "    \n",
        "    new_order = [i for i in range(n)]\n",
        "    \n",
        "    if(n == numcol):\n",
        "        #Factor. w/ Pivoting\n",
        "        for i in range(n):\n",
        "            #pivoting section\n",
        "            am = abs(a[i,i])\n",
        "            p = i\n",
        "            for j in range(i+1, n):\n",
        "                if(abs(a[j,i]) > am):\n",
        "                    am = abs(a[j,i])\n",
        "                    p = j\n",
        "            #if the pivot index is greater than the current i index (i loops columnwise)\n",
        "            #then interchange Row=pivot with Row=i\n",
        "            if(p > i):\n",
        "                for k in range(n):\n",
        "                    temp = numpy.copy(a[i,k])\n",
        "                    a[i,k] = a[p,k]\n",
        "                    a[p,k] = temp\n",
        "                    \n",
        "                #track the swapped indices\n",
        "                temp = new_order[i]\n",
        "                new_order[i] = new_order[p]\n",
        "                new_order[p] = temp\n",
        "            \n",
        "            #the pivoting is now complete\n",
        "            #now begin the elimination step\n",
        "            for j in range(i+1, n):\n",
        "                a[j,i] = a[j,i]/a[i,i]\n",
        "                for k in range(i+1, n):\n",
        "                    a[j,k] = a[j,k] - a[j,i]*a[i,k]\n",
        "                    \n",
        "        #the pivoting is now complete so,: compute L and U\n",
        "        U = numpy.matrix(numpy.zeros((n,n), dtype = numpy.float64))\n",
        "        L = numpy.matrix(numpy.zeros((n,n), dtype = numpy.float64))\n",
        "        \n",
        "        for i in range(n):\n",
        "            U[i,i] = a[i,i]\n",
        "            L[i,i] = 1.0\n",
        "            for j in range(n):\n",
        "                if( i < j ):\n",
        "                    U[i,j] = a[i,j]\n",
        "                elif( i > j ):\n",
        "                    L[i,j] = a[i,j]\n",
        "        \n",
        "                \n",
        "    return L, U\n",
        "\n",
        "\n",
        "LU_factors(AnMatrix(5))"
      ],
      "metadata": {
        "colab": {
          "base_uri": "https://localhost:8080/"
        },
        "id": "c8VhrYfP7nEO",
        "outputId": "4d9ea60b-2aba-481a-c5ee-320ec55fe792"
      },
      "execution_count": 75,
      "outputs": [
        {
          "output_type": "execute_result",
          "data": {
            "text/plain": [
              "(matrix([[ 1.        ,  0.        ,  0.        ,  0.        ,  0.        ],\n",
              "         [ 0.25      ,  1.        ,  0.        ,  0.        ,  0.        ],\n",
              "         [ 0.        , -0.        ,  1.        ,  0.        ,  0.        ],\n",
              "         [ 0.        , -0.94117647,  0.48529412,  1.        ,  0.        ],\n",
              "         [ 0.        , -0.        ,  0.        , -0.89180328,  1.        ]]),\n",
              " matrix([[ 4.        ,  1.        , -4.        ,  0.        ,  0.        ],\n",
              "         [ 0.        , -4.25      ,  1.        ,  0.        ,  0.        ],\n",
              "         [ 0.        ,  0.        ,  4.        ,  1.        , -4.        ],\n",
              "         [ 0.        ,  0.        ,  0.        , -4.48529412,  1.94117647],\n",
              "         [ 0.        ,  0.        ,  0.        ,  0.        ,  2.73114754]]))"
            ]
          },
          "metadata": {},
          "execution_count": 75
        }
      ]
    },
    {
      "cell_type": "markdown",
      "source": [
        "**USING L AND U TO FORWARD AND BACK SOLVE**"
      ],
      "metadata": {
        "id": "PJ-cjZ-SD3xp"
      }
    },
    {
      "cell_type": "code",
      "source": [
        "def LU_forward_backward(L,U, bvec):\n",
        "    l = L.copy()\n",
        "    u = U.copy()\n",
        "    b = bvec.copy()\n",
        "    \n",
        "    (n, numcol) = l.shape\n",
        "\n",
        "    x = numpy.matrix(numpy.zeros((n,1), dtype = numpy.float64))\n",
        "    \n",
        "    if(n == numcol):\n",
        "        #Solve Ly = b\n",
        "        y = numpy.matrix(numpy.zeros((n,1), dtype = numpy.float64))\n",
        "        y[0,0] = b[0,0]\n",
        "        for i in range(1, n):\n",
        "            sum = 0.0\n",
        "            for j in range(0, i):\n",
        "                 sum = sum + l[i,j]*y[j,0]\n",
        "            y[i,0] = b[i,0] - sum\n",
        "         \n",
        "        #Solve Ux = y\n",
        "        x[n-1, 0] = y[n-1, 0]/u[n-1,n-1]\n",
        "        for i in range(n-2, -1, -1):\n",
        "            sum = 0.0\n",
        "            for j in range(i+1, n):\n",
        "                sum = sum + u[i,j]*x[j, 0]\n",
        "            x[i,0] = (y[i,0] - sum)/u[i,i]\n",
        "        \n",
        "    return x "
      ],
      "metadata": {
        "id": "Y_nmgXjd8YwY"
      },
      "execution_count": 76,
      "outputs": []
    },
    {
      "cell_type": "markdown",
      "source": [
        "**INFINITY NORM**"
      ],
      "metadata": {
        "id": "7jmDbKzTDlXa"
      }
    },
    {
      "cell_type": "code",
      "source": [
        "#Input: vector\n",
        "#Returns: infinity norm, i.e., maximum absolute value entry\n",
        "\n",
        "def vecInfNorm(v):\n",
        "    return numpy.max(numpy.abs(v))\n",
        "        \n",
        "\n",
        "print(vecInfNorm([3,4,7,9,100]))\n"
      ],
      "metadata": {
        "colab": {
          "base_uri": "https://localhost:8080/"
        },
        "id": "JWFmryKz-aWb",
        "outputId": "de8247e6-482e-4061-82ed-d0f551e4a758"
      },
      "execution_count": 57,
      "outputs": [
        {
          "output_type": "stream",
          "name": "stdout",
          "text": [
            "100\n"
          ]
        }
      ]
    },
    {
      "cell_type": "markdown",
      "source": [
        "**INFINITY MATRIX NORM**"
      ],
      "metadata": {
        "id": "6F0aGuhPDsS_"
      }
    },
    {
      "cell_type": "code",
      "source": [
        "#Input: matrix\n",
        "#Returns: infinity matrix norm, i.e., maximum row sum\n",
        "\n",
        "def matrixInfNorm(A):\n",
        "    a = numpy.copy(A)\n",
        "    a = abs(a)\n",
        "    rowsums = numpy.sum(a, axis=1).tolist()\n",
        "    max_s = rowsums[0]\n",
        "    for elem in rowsums:\n",
        "        if elem > max_s:\n",
        "            max_s = elem\n",
        "    return max_s\n",
        "    \n",
        "\n",
        "print(AnMatrix(6)) \n",
        "\n",
        "matrixInfNorm(AnMatrix(6))"
      ],
      "metadata": {
        "colab": {
          "base_uri": "https://localhost:8080/"
        },
        "id": "v4bHbx6eAU0d",
        "outputId": "560e973c-0fab-4341-c334-48702afdd21c"
      },
      "execution_count": 80,
      "outputs": [
        {
          "output_type": "stream",
          "name": "stdout",
          "text": [
            "[[ 1. -4.  0.  0.  0.  0.]\n",
            " [ 4.  1. -4.  0.  0.  0.]\n",
            " [ 0.  4.  1. -4.  0.  0.]\n",
            " [ 0.  0.  4.  1. -4.  0.]\n",
            " [ 0.  0.  0.  4.  1. -4.]\n",
            " [ 0.  0.  0.  0.  4.  1.]]\n"
          ]
        },
        {
          "output_type": "execute_result",
          "data": {
            "text/plain": [
              "9.0"
            ]
          },
          "metadata": {},
          "execution_count": 80
        }
      ]
    },
    {
      "cell_type": "markdown",
      "source": [
        "**EUCLIDIAN 2-NORM**"
      ],
      "metadata": {
        "id": "1XMOmRYhDV_R"
      }
    },
    {
      "cell_type": "code",
      "source": [
        "#Input: vector\n",
        "#Returns: Euclidean 2-norm\n",
        "\n",
        "def vecEuclidnorm(v, p):\n",
        "    return numpy.power(numpy.sum(numpy.power(numpy.abs(v), 2.0)), 0.5)\n",
        "\n",
        "  \n",
        "vecEuclidnorm([2,5,7,3,5],[8,1,3,2,4]) "
      ],
      "metadata": {
        "colab": {
          "base_uri": "https://localhost:8080/"
        },
        "id": "Bqi5MSPWAXL2",
        "outputId": "d9e5a6d3-6ec8-41a4-9515-d087548fafba"
      },
      "execution_count": 62,
      "outputs": [
        {
          "output_type": "execute_result",
          "data": {
            "text/plain": [
              "10.583005244258363"
            ]
          },
          "metadata": {},
          "execution_count": 62
        }
      ]
    },
    {
      "cell_type": "markdown",
      "source": [
        "**VECTOR P NORM**"
      ],
      "metadata": {
        "id": "6EW53_d3DSXV"
      }
    },
    {
      "cell_type": "code",
      "source": [
        "#Input: vector, p\n",
        "#Returns: vector P norm\n",
        "\n",
        "def vecPnorm(v, p):\n",
        "    return numpy.power(numpy.sum(numpy.power(numpy.abs(v), p)), 1.0/p)\n",
        "\n",
        "\n",
        "vecPnorm([2,6,4,8,4],3) "
      ],
      "metadata": {
        "colab": {
          "base_uri": "https://localhost:8080/"
        },
        "id": "KTjE9aq7BJ_2",
        "outputId": "e1a736ec-21e1-43d1-eff3-4dbcf7f5a737"
      },
      "execution_count": 66,
      "outputs": [
        {
          "output_type": "execute_result",
          "data": {
            "text/plain": [
              "9.524406311809196"
            ]
          },
          "metadata": {},
          "execution_count": 66
        }
      ]
    },
    {
      "cell_type": "markdown",
      "source": [
        "**MATRIX 2 NORM**"
      ],
      "metadata": {
        "id": "IfyTukcnDPIj"
      }
    },
    {
      "cell_type": "code",
      "source": [
        "#Input: n x n matrix\n",
        "#output: matrix 2 norm\n",
        "\n",
        "def matrix2norm(Amat):\n",
        "\n",
        "    A = numpy.matmul(Amat, numpy.transpose(Amat))\n",
        "    (eigvalues, eigenvectors) = numpy.linalg.eig(A)\n",
        "    mxe = max(eigvalues)\n",
        "    return math.sqrt(mxe)\n",
        "\n",
        "print(AnMatrix(7))\n",
        "matrix2norm(AnMatrix(7)) "
      ],
      "metadata": {
        "colab": {
          "base_uri": "https://localhost:8080/"
        },
        "id": "kFQdqsJtBmBw",
        "outputId": "08e7fbd1-dc4f-4e01-d0f7-789190c9f1b0"
      },
      "execution_count": 82,
      "outputs": [
        {
          "output_type": "stream",
          "name": "stdout",
          "text": [
            "[[ 1. -4.  0.  0.  0.  0.  0.]\n",
            " [ 4.  1. -4.  0.  0.  0.  0.]\n",
            " [ 0.  4.  1. -4.  0.  0.  0.]\n",
            " [ 0.  0.  4.  1. -4.  0.  0.]\n",
            " [ 0.  0.  0.  4.  1. -4.  0.]\n",
            " [ 0.  0.  0.  0.  4.  1. -4.]\n",
            " [ 0.  0.  0.  0.  0.  4.  1.]]\n"
          ]
        },
        {
          "output_type": "execute_result",
          "data": {
            "text/plain": [
              "7.4583789792400275"
            ]
          },
          "metadata": {},
          "execution_count": 82
        }
      ]
    },
    {
      "cell_type": "markdown",
      "source": [
        "**THE CONDITION NUMBER ESTIMATOR ALGORITHM**"
      ],
      "metadata": {
        "id": "GP3Zc3_2B_08"
      }
    },
    {
      "cell_type": "code",
      "source": [
        "def algorithm_79(A):\n",
        "    #solve the system Ayi = yi+1, i.e., LUyi = yi+1 as a way of solving A-inverse(A^-1) yi+1 = yi\n",
        "    \n",
        "    a = A.copy()\n",
        "    (n, numcol) = A.shape\n",
        "    alpha = matrixInfNorm(A)\n",
        "    (X,idx)=LU_factors(a)\n",
        "    #y = numpy.random.rand(numrows, magnitude)\n",
        "    y = numpy.random.rand(n, 1)\n",
        "    for i in range(5):\n",
        "        y = y/vecInfNorm(y)\n",
        "        y = algorithm_78(L, U, y)\n",
        "       \n",
        "    a = A.copy()\n",
        "    (n, numcol) = A.shape\n",
        "    alpha = matrixInfNorm(A)\n",
        "    (X,idx)=LU_factors(a)\n",
        "    #y = numpy.random.rand(numrows, magnitude)\n",
        "    y = numpy.random.rand(n, 1)\n",
        "    for i in range(5):\n",
        "        print(y)\n",
        "        y = y/vecInfNorm(y)\n",
        "        y = LU_forward_backward(X, idx, y)\n",
        "        \n",
        "        \n",
        "    \n",
        "    v = vecInfNorm(y)\n",
        "    print(\"v inf\")\n",
        "    print(v)\n",
        "    print(\"alpha\")\n",
        "    print(alpha)\n",
        "    print(y)\n",
        "    print(alpha * v)\n"
      ],
      "metadata": {
        "id": "yoR4t91GCJGo"
      },
      "execution_count": 71,
      "outputs": []
    }
  ]
}